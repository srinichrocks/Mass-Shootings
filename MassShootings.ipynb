{
 "cells": [
  {
   "cell_type": "markdown",
   "id": "e3c009d5",
   "metadata": {},
   "source": [
    "# Analysis of Mass Shootings in the United States of America\n",
    "## Author: Srinidhi Raghavendran\n",
    "### Goal: Analyze the kaggle mass shooting dataset consisting of all the mass shootings from 2016-2021 in the USA. Determine outliers, make interesting statistical observations, predict the rate of growth in casualties in mass shootings and classify shootings based on injuries and deaths. Double check analysis to determine whether these statistical findings are made by chance. \n",
    "### Key findings: \n",
    "* Through linear regression modeling, the number of casualties, death and injuries, in each individual mass shooting have shown a gradual increase as time has progressed from 2016 to 2021.\n",
    "* Through the K-Nearest Neighbors algorithm, there is now a classifier which categorizes mass shootings at 98.99% accuracy into three different levels:\n",
    "    * Low\n",
    "    * Moderate\n",
    "    * High"
   ]
  },
  {
   "cell_type": "markdown",
   "id": "016626e9",
   "metadata": {},
   "source": [
    "## Five steps in predictive analysis:\n",
    "* Installing and Importing Dependencies\n",
    "* Data Exploration \n",
    "* Data Cleaning\n",
    "* Modeling\n",
    "* Performance Analysis"
   ]
  },
  {
   "cell_type": "markdown",
   "id": "0815664b",
   "metadata": {},
   "source": [
    "## Installing and Importing Dependencies"
   ]
  },
  {
   "cell_type": "code",
   "execution_count": 21,
   "id": "fbac1136",
   "metadata": {},
   "outputs": [],
   "source": [
    "import numpy as np\n",
    "from datascience import *\n",
    "\n",
    "# These lines do some fancy plotting magic\n",
    "import matplotlib\n",
    "%matplotlib inline\n",
    "import matplotlib.pyplot as plt\n",
    "plt.style.use('fivethirtyeight')"
   ]
  },
  {
   "cell_type": "markdown",
   "id": "3a150eb9",
   "metadata": {},
   "source": [
    "## Data Exploration\n",
    "#### Goal: Open up dataset and recognize outliers"
   ]
  },
  {
   "cell_type": "code",
   "execution_count": 22,
   "id": "f405a1f6",
   "metadata": {},
   "outputs": [
    {
     "data": {
      "text/html": [
       "<table border=\"1\" class=\"dataframe\">\n",
       "    <thead>\n",
       "        <tr>\n",
       "            <th>Incident ID</th> <th>Incident Date</th> <th>State</th> <th>City Or County</th> <th>Address</th> <th># Killed</th> <th># Injured</th> <th>Operations</th>\n",
       "        </tr>\n",
       "    </thead>\n",
       "    <tbody>\n",
       "        <tr>\n",
       "            <td>1978561    </td> <td>April 15, 2021</td> <td>District of Columbia</td> <td>Washington    </td> <td>1800 block of West Virginia Ave NE</td> <td>0       </td> <td>4        </td> <td>nan       </td>\n",
       "        </tr>\n",
       "        <tr>\n",
       "            <td>1978635    </td> <td>April 15, 2021</td> <td>Indiana             </td> <td>Indianapolis  </td> <td>8951 Mirabel Rd                   </td> <td>8       </td> <td>5        </td> <td>nan       </td>\n",
       "        </tr>\n",
       "        <tr>\n",
       "            <td>1978652    </td> <td>April 15, 2021</td> <td>Illinois            </td> <td>Chicago       </td> <td>600 block of N Sawyer Ave         </td> <td>0       </td> <td>4        </td> <td>nan       </td>\n",
       "        </tr>\n",
       "        <tr>\n",
       "            <td>1978616    </td> <td>April 15, 2021</td> <td>Florida             </td> <td>Pensacola     </td> <td>700 Truman Ave                    </td> <td>0       </td> <td>6        </td> <td>nan       </td>\n",
       "        </tr>\n",
       "        <tr>\n",
       "            <td>1976538    </td> <td>April 13, 2021</td> <td>Maryland            </td> <td>Baltimore     </td> <td>2300 block of Hoffman St          </td> <td>0       </td> <td>4        </td> <td>nan       </td>\n",
       "        </tr>\n",
       "        <tr>\n",
       "            <td>1975296    </td> <td>April 12, 2021</td> <td>Illinois            </td> <td>Chicago       </td> <td>I-290 and S Damen Ave             </td> <td>1       </td> <td>3        </td> <td>nan       </td>\n",
       "        </tr>\n",
       "        <tr>\n",
       "            <td>1974943    </td> <td>April 11, 2021</td> <td>Kansas              </td> <td>Wichita       </td> <td>200 block of N Battin St          </td> <td>1       </td> <td>3        </td> <td>nan       </td>\n",
       "        </tr>\n",
       "        <tr>\n",
       "            <td>1975004    </td> <td>April 11, 2021</td> <td>Washington          </td> <td>Seattle       </td> <td>306 23rd Ave S                    </td> <td>0       </td> <td>4        </td> <td>nan       </td>\n",
       "        </tr>\n",
       "        <tr>\n",
       "            <td>1974088    </td> <td>April 10, 2021</td> <td>Tennessee           </td> <td>Memphis       </td> <td>4315 S 3rd St                     </td> <td>1       </td> <td>3        </td> <td>nan       </td>\n",
       "        </tr>\n",
       "        <tr>\n",
       "            <td>1973692    </td> <td>April 10, 2021</td> <td>Missouri            </td> <td>Koshkonong    </td> <td>US-63 and MO-F                    </td> <td>1       </td> <td>3        </td> <td>nan       </td>\n",
       "        </tr>\n",
       "    </tbody>\n",
       "</table>\n",
       "<p>... (1990 rows omitted)</p>"
      ],
      "text/plain": [
       "Incident ID | Incident Date  | State                | City Or County | Address                            | # Killed | # Injured | Operations\n",
       "1978561     | April 15, 2021 | District of Columbia | Washington     | 1800 block of West Virginia Ave NE | 0        | 4         | nan\n",
       "1978635     | April 15, 2021 | Indiana              | Indianapolis   | 8951 Mirabel Rd                    | 8        | 5         | nan\n",
       "1978652     | April 15, 2021 | Illinois             | Chicago        | 600 block of N Sawyer Ave          | 0        | 4         | nan\n",
       "1978616     | April 15, 2021 | Florida              | Pensacola      | 700 Truman Ave                     | 0        | 6         | nan\n",
       "1976538     | April 13, 2021 | Maryland             | Baltimore      | 2300 block of Hoffman St           | 0        | 4         | nan\n",
       "1975296     | April 12, 2021 | Illinois             | Chicago        | I-290 and S Damen Ave              | 1        | 3         | nan\n",
       "1974943     | April 11, 2021 | Kansas               | Wichita        | 200 block of N Battin St           | 1        | 3         | nan\n",
       "1975004     | April 11, 2021 | Washington           | Seattle        | 306 23rd Ave S                     | 0        | 4         | nan\n",
       "1974088     | April 10, 2021 | Tennessee            | Memphis        | 4315 S 3rd St                      | 1        | 3         | nan\n",
       "1973692     | April 10, 2021 | Missouri             | Koshkonong     | US-63 and MO-F                     | 1        | 3         | nan\n",
       "... (1990 rows omitted)"
      ]
     },
     "execution_count": 22,
     "metadata": {},
     "output_type": "execute_result"
    }
   ],
   "source": [
    "shootings = Table.read_table('shootings/Mass Shooting Data.csv')\n",
    "shootings"
   ]
  },
  {
   "cell_type": "code",
   "execution_count": 23,
   "id": "06aae936",
   "metadata": {
    "scrolled": true
   },
   "outputs": [
    {
     "data": {
      "image/png": "[encoded data removed]",
      "text/plain": [
       "<Figure size 360x360 with 1 Axes>"
      ]
     },
     "metadata": {},
     "output_type": "display_data"
    },
    {
     "data": {
      "image/png": "[encoded data removed]",
      "text/plain": [
       "<Figure size 360x360 with 1 Axes>"
      ]
     },
     "metadata": {},
     "output_type": "display_data"
    }
   ],
   "source": [
    "shootings.scatter(\"State\", \"# Killed\")\n",
    "shootings.scatter(\"State\", \"# Injured\")"
   ]
  },
  {
   "cell_type": "markdown",
   "id": "f2712890",
   "metadata": {},
   "source": [
    "## Data Cleaning"
   ]
  },
  {
   "cell_type": "markdown",
   "id": "2ad56709",
   "metadata": {},
   "source": [
    "#### Upon creating a scatter plot to have a better visual representation of our data, we see that there are outliers in both the killed and injured plots. The outliers in both the plots actually originate from the same incident: the 2017 Las Vegas Shooting, an unforseen and terrible tragedy."
   ]
  },
  {
   "cell_type": "code",
   "execution_count": 24,
   "id": "5ff283d0",
   "metadata": {},
   "outputs": [
    {
     "name": "stdout",
     "output_type": "stream",
     "text": [
      "Incident ID | Incident Date   | State  | City Or County | Address               | # Killed | # Injured | Operations\n",
      "946496      | October 1, 2017 | Nevada | Las Vegas      | 3950 Las Vegas Blvd S | 59       | 441       | nan Incident ID | Incident Date   | State  | City Or County | Address               | # Killed | # Injured | Operations\n",
      "946496      | October 1, 2017 | Nevada | Las Vegas      | 3950 Las Vegas Blvd S | 59       | 441       | nan\n"
     ]
    }
   ],
   "source": [
    "killedOver50 = shootings.where(\"# Killed\", are.above(50))\n",
    "injuredOver400 = shootings.where(\"# Injured\", are.above(400))\n",
    "print(killedOver50, injuredOver400)"
   ]
  },
  {
   "cell_type": "code",
   "execution_count": 25,
   "id": "7ea863c2",
   "metadata": {},
   "outputs": [
    {
     "name": "stdout",
     "output_type": "stream",
     "text": [
      "The z-score of the suggested outlier for the killed plot is 27.5125374406 which is greater than the accepted z-score of 3.0.\n",
      "The z-score of the suggested outlier for the injured plot is 43.6752570876 which is greater than the accepted z-score of 3.0.\n"
     ]
    }
   ],
   "source": [
    "# Z score is defined as (x - mean) / std. deviation\n",
    "# Z score calculation for las vegas shooting number of people killed\n",
    "avgKilled = np.mean(shootings.column(\"# Killed\"))\n",
    "stdKilled = np.std(shootings.column(\"# Killed\"))\n",
    "killedZ = (killedOver50.column(\"# Killed\").item(0) - avgKilled) / stdKilled\n",
    "if (killedZ > 3.0):\n",
    "    print(\"The z-score of the suggested outlier for the killed plot is \" + str(killedZ) + \" which is greater than the accepted z-score of 3.0.\")\n",
    "else:\n",
    "    print(\"The value is not an outlier for the killed plot as the z-score is \" + str(killedZ) + \" which is less than the upward z-score boundary.\")\n",
    "    \n",
    "# Z score calculation for las vegas shooting number of people injured\n",
    "avgInjured = np.mean(shootings.column(\"# Injured\"))\n",
    "stdInjured = np.std(shootings.column(\"# Injured\"))\n",
    "injuredZ = (injuredOver400.column(\"# Injured\").item(0) - avgInjured) / stdInjured\n",
    "if (injuredZ > 3.0):\n",
    "    print(\"The z-score of the suggested outlier for the injured plot is \" + str(injuredZ) + \" which is greater than the accepted z-score of 3.0.\")\n",
    "else:\n",
    "    print(\"The value is not an outlier for the injured plot as the z-score is \" + str(injuredZ) + \" which is less than the upward z-score boundary.\")\n"
   ]
  },
  {
   "cell_type": "markdown",
   "id": "6f357069",
   "metadata": {},
   "source": [
    "#### Although the mass shooting is of significant importance in the ongoing battle for the second amendment right as well as the history of mass shooting victims, in our particular study we cannot include it as the z-score for the data point far exceeds the generally allowed value of 3.0. For more precaution, we could do the same z-score method we did above but for all the data points and then filter respectively. This will allow for a more accurate analysis of the data."
   ]
  },
  {
   "cell_type": "code",
   "execution_count": 26,
   "id": "11dfc04c",
   "metadata": {},
   "outputs": [
    {
     "data": {
      "text/plain": [
       "array([  3.29918761,   4.24873074,   3.29918761,   3.29918761,\n",
       "         4.24873074,  10.42076109,   5.67304543,   5.67304543,\n",
       "         4.7235023 ,   4.24873074,   7.5721317 ,  12.31984735,\n",
       "        27.51253744,   3.77395917,   3.29918761])"
      ]
     },
     "execution_count": 26,
     "metadata": {},
     "output_type": "execute_result"
    }
   ],
   "source": [
    "def calc_all_killed_z(x):\n",
    "    return (x - np.mean(shootings.column(\"# Killed\"))) / np.std(shootings.column(\"# Killed\"))\n",
    "killed_z = shootings.apply(calc_all_killed_z, \"# Killed\")\n",
    "killed_z_over_3 = make_array()\n",
    "for i in killed_z:\n",
    "    if i > 3.0 or i < -3.0:\n",
    "        killed_z_over_3 = np.append(killed_z_over_3, i)\n",
    "killed_z_over_3\n",
    "    "
   ]
  },
  {
   "cell_type": "code",
   "execution_count": 27,
   "id": "4d9dc4d0",
   "metadata": {},
   "outputs": [
    {
     "data": {
      "text/html": [
       "<table border=\"1\" class=\"dataframe\">\n",
       "    <thead>\n",
       "        <tr>\n",
       "            <th>Incident ID</th> <th>Incident Date</th> <th>State</th> <th>City Or County</th> <th>Address</th> <th># Killed</th> <th># Injured</th> <th>Operations</th>\n",
       "        </tr>\n",
       "    </thead>\n",
       "    <tbody>\n",
       "        <tr>\n",
       "            <td>1978561    </td> <td>April 15, 2021</td> <td>District of Columbia</td> <td>Washington    </td> <td>1800 block of West Virginia Ave NE</td> <td>0       </td> <td>4        </td> <td>nan       </td>\n",
       "        </tr>\n",
       "        <tr>\n",
       "            <td>1978652    </td> <td>April 15, 2021</td> <td>Illinois            </td> <td>Chicago       </td> <td>600 block of N Sawyer Ave         </td> <td>0       </td> <td>4        </td> <td>nan       </td>\n",
       "        </tr>\n",
       "        <tr>\n",
       "            <td>1978616    </td> <td>April 15, 2021</td> <td>Florida             </td> <td>Pensacola     </td> <td>700 Truman Ave                    </td> <td>0       </td> <td>6        </td> <td>nan       </td>\n",
       "        </tr>\n",
       "        <tr>\n",
       "            <td>1976538    </td> <td>April 13, 2021</td> <td>Maryland            </td> <td>Baltimore     </td> <td>2300 block of Hoffman St          </td> <td>0       </td> <td>4        </td> <td>nan       </td>\n",
       "        </tr>\n",
       "        <tr>\n",
       "            <td>1975296    </td> <td>April 12, 2021</td> <td>Illinois            </td> <td>Chicago       </td> <td>I-290 and S Damen Ave             </td> <td>1       </td> <td>3        </td> <td>nan       </td>\n",
       "        </tr>\n",
       "        <tr>\n",
       "            <td>1974943    </td> <td>April 11, 2021</td> <td>Kansas              </td> <td>Wichita       </td> <td>200 block of N Battin St          </td> <td>1       </td> <td>3        </td> <td>nan       </td>\n",
       "        </tr>\n",
       "        <tr>\n",
       "            <td>1975004    </td> <td>April 11, 2021</td> <td>Washington          </td> <td>Seattle       </td> <td>306 23rd Ave S                    </td> <td>0       </td> <td>4        </td> <td>nan       </td>\n",
       "        </tr>\n",
       "        <tr>\n",
       "            <td>1974088    </td> <td>April 10, 2021</td> <td>Tennessee           </td> <td>Memphis       </td> <td>4315 S 3rd St                     </td> <td>1       </td> <td>3        </td> <td>nan       </td>\n",
       "        </tr>\n",
       "        <tr>\n",
       "            <td>1973692    </td> <td>April 10, 2021</td> <td>Missouri            </td> <td>Koshkonong    </td> <td>US-63 and MO-F                    </td> <td>1       </td> <td>3        </td> <td>nan       </td>\n",
       "        </tr>\n",
       "        <tr>\n",
       "            <td>1975405    </td> <td>April 10, 2021</td> <td>Connecticut         </td> <td>Waterbury     </td> <td>36 Gasparri Ln                    </td> <td>0       </td> <td>4        </td> <td>nan       </td>\n",
       "        </tr>\n",
       "    </tbody>\n",
       "</table>\n",
       "<p>... (1975 rows omitted)</p>"
      ],
      "text/plain": [
       "Incident ID | Incident Date  | State                | City Or County | Address                            | # Killed | # Injured | Operations\n",
       "1978561     | April 15, 2021 | District of Columbia | Washington     | 1800 block of West Virginia Ave NE | 0        | 4         | nan\n",
       "1978652     | April 15, 2021 | Illinois             | Chicago        | 600 block of N Sawyer Ave          | 0        | 4         | nan\n",
       "1978616     | April 15, 2021 | Florida              | Pensacola      | 700 Truman Ave                     | 0        | 6         | nan\n",
       "1976538     | April 13, 2021 | Maryland             | Baltimore      | 2300 block of Hoffman St           | 0        | 4         | nan\n",
       "1975296     | April 12, 2021 | Illinois             | Chicago        | I-290 and S Damen Ave              | 1        | 3         | nan\n",
       "1974943     | April 11, 2021 | Kansas               | Wichita        | 200 block of N Battin St           | 1        | 3         | nan\n",
       "1975004     | April 11, 2021 | Washington           | Seattle        | 306 23rd Ave S                     | 0        | 4         | nan\n",
       "1974088     | April 10, 2021 | Tennessee            | Memphis        | 4315 S 3rd St                      | 1        | 3         | nan\n",
       "1973692     | April 10, 2021 | Missouri             | Koshkonong     | US-63 and MO-F                     | 1        | 3         | nan\n",
       "1975405     | April 10, 2021 | Connecticut          | Waterbury      | 36 Gasparri Ln                     | 0        | 4         | nan\n",
       "... (1975 rows omitted)"
      ]
     },
     "execution_count": 27,
     "metadata": {},
     "output_type": "execute_result"
    }
   ],
   "source": [
    "maxKillZ = 3.0 * stdKilled + avgKilled\n",
    "minKillZ = -3.0 * stdKilled + avgKilled\n",
    "maxInjurZ = 3.0 * stdInjured + avgInjured\n",
    "minInjurZ = -3.0 * stdInjured + avgInjured\n",
    "filtered_shootings = shootings.where(\"# Killed\", are.between_or_equal_to(minKillZ, maxKillZ)).where(\"# Injured\", are.between_or_equal_to(minInjurZ, maxInjurZ))\n",
    "filtered_shootings\n"
   ]
  },
  {
   "cell_type": "markdown",
   "id": "df436c5f",
   "metadata": {},
   "source": [
    "#### Instead of calculating the individual z-score of each data point, a more efficient way to filter outliers is to determine a range of values which fall between the generally allowed z-score of -3.0 and 3.0 and proceed as such.\n"
   ]
  },
  {
   "cell_type": "markdown",
   "id": "02b46a01",
   "metadata": {},
   "source": [
    "## Modeling (linear regression)"
   ]
  },
  {
   "cell_type": "markdown",
   "id": "52763057",
   "metadata": {},
   "source": [
    "#### Before immediately going into coding a model, let's step back and understand what exactly we are generating the model to represent. We will first use Linear regression in order to determine whether there is a trend as time progresses with mass shooting. We will also use k-nearest-neighbors in order to categorize the severity of mass shooting cases and whether a majority of them include multiple heavy casualties or not"
   ]
  },
  {
   "cell_type": "markdown",
   "id": "3b96318c",
   "metadata": {},
   "source": [
    "### Linear Regression"
   ]
  },
  {
   "cell_type": "code",
   "execution_count": 28,
   "id": "1a8a4e63",
   "metadata": {},
   "outputs": [
    {
     "data": {
      "text/html": [
       "<table border=\"1\" class=\"dataframe\">\n",
       "    <thead>\n",
       "        <tr>\n",
       "            <th>Incident ID</th> <th>Incident Date</th> <th>State</th> <th>City Or County</th> <th>Address</th> <th># Killed</th> <th># Injured</th> <th>Operations</th> <th>Casualties</th>\n",
       "        </tr>\n",
       "    </thead>\n",
       "    <tbody>\n",
       "        <tr>\n",
       "            <td>632747     </td> <td>August 18, 2016</td> <td>Connecticut  </td> <td>Waterbury          </td> <td>402 E Main Street           </td> <td>0       </td> <td>4        </td> <td>nan       </td> <td>4         </td>\n",
       "        </tr>\n",
       "        <tr>\n",
       "            <td>632753     </td> <td>August 17, 2016</td> <td>California   </td> <td>Oakland            </td> <td>Mandela Parkway             </td> <td>0       </td> <td>4        </td> <td>nan       </td> <td>4         </td>\n",
       "        </tr>\n",
       "        <tr>\n",
       "            <td>634238     </td> <td>August 20, 2016</td> <td>Connecticut  </td> <td>Hamden             </td> <td>903 Dixwell Ave             </td> <td>0       </td> <td>4        </td> <td>nan       </td> <td>4         </td>\n",
       "        </tr>\n",
       "        <tr>\n",
       "            <td>634731     </td> <td>August 20, 2016</td> <td>Washington   </td> <td>Tacoma             </td> <td>900 block of Pacific Avenue </td> <td>0       </td> <td>5        </td> <td>nan       </td> <td>5         </td>\n",
       "        </tr>\n",
       "        <tr>\n",
       "            <td>634787     </td> <td>August 21, 2016</td> <td>Connecticut  </td> <td>Bridgeport         </td> <td>19 Plymouth St              </td> <td>0       </td> <td>13       </td> <td>nan       </td> <td>13        </td>\n",
       "        </tr>\n",
       "        <tr>\n",
       "            <td>634819     </td> <td>August 20, 2016</td> <td>Alabama      </td> <td>Citronelle         </td> <td>Jim Platt Road              </td> <td>5       </td> <td>0        </td> <td>nan       </td> <td>5         </td>\n",
       "        </tr>\n",
       "        <tr>\n",
       "            <td>634889     </td> <td>August 21, 2016</td> <td>Massachusetts</td> <td>Boston             </td> <td>Westview and Stratton Street</td> <td>0       </td> <td>4        </td> <td>nan       </td> <td>4         </td>\n",
       "        </tr>\n",
       "        <tr>\n",
       "            <td>640203     </td> <td>August 27, 2016</td> <td>Florida      </td> <td>Miami              </td> <td>1900 block of NW 83rd Terr  </td> <td>2       </td> <td>4        </td> <td>nan       </td> <td>6         </td>\n",
       "        </tr>\n",
       "        <tr>\n",
       "            <td>640500     </td> <td>August 27, 2016</td> <td>Alabama      </td> <td>Bessemer (Brighton)</td> <td>3810 7th Ave                </td> <td>1       </td> <td>6        </td> <td>nan       </td> <td>7         </td>\n",
       "        </tr>\n",
       "        <tr>\n",
       "            <td>640677     </td> <td>August 28, 2016</td> <td>New York     </td> <td>Bronx              </td> <td>514 E 156th St              </td> <td>0       </td> <td>4        </td> <td>nan       </td> <td>4         </td>\n",
       "        </tr>\n",
       "    </tbody>\n",
       "</table>\n",
       "<p>... (1975 rows omitted)</p>"
      ],
      "text/plain": [
       "Incident ID | Incident Date   | State         | City Or County      | Address                      | # Killed | # Injured | Operations | Casualties\n",
       "632747      | August 18, 2016 | Connecticut   | Waterbury           | 402 E Main Street            | 0        | 4         | nan        | 4\n",
       "632753      | August 17, 2016 | California    | Oakland             | Mandela Parkway              | 0        | 4         | nan        | 4\n",
       "634238      | August 20, 2016 | Connecticut   | Hamden              | 903 Dixwell Ave              | 0        | 4         | nan        | 4\n",
       "634731      | August 20, 2016 | Washington    | Tacoma              | 900 block of Pacific Avenue  | 0        | 5         | nan        | 5\n",
       "634787      | August 21, 2016 | Connecticut   | Bridgeport          | 19 Plymouth St               | 0        | 13        | nan        | 13\n",
       "634819      | August 20, 2016 | Alabama       | Citronelle          | Jim Platt Road               | 5        | 0         | nan        | 5\n",
       "634889      | August 21, 2016 | Massachusetts | Boston              | Westview and Stratton Street | 0        | 4         | nan        | 4\n",
       "640203      | August 27, 2016 | Florida       | Miami               | 1900 block of NW 83rd Terr   | 2        | 4         | nan        | 6\n",
       "640500      | August 27, 2016 | Alabama       | Bessemer (Brighton) | 3810 7th Ave                 | 1        | 6         | nan        | 7\n",
       "640677      | August 28, 2016 | New York      | Bronx               | 514 E 156th St               | 0        | 4         | nan        | 4\n",
       "... (1975 rows omitted)"
      ]
     },
     "execution_count": 28,
     "metadata": {},
     "output_type": "execute_result"
    }
   ],
   "source": [
    "casualty_shootings = filtered_shootings.with_column(\"Casualties\", filtered_shootings.column(\"# Killed\") + filtered_shootings.column(\"# Injured\")).sort(\"Incident ID\")\n",
    "casualty_shootings"
   ]
  },
  {
   "cell_type": "markdown",
   "id": "f6dfb0f0",
   "metadata": {},
   "source": [
    "#### Here we have created a new table with an additional column for the combined casualties of those who were injured and killed. Since we are measuring a trend over time, we must also sort the incident ids from least to greatest as they represent the chronological time in which the incidents occured and can make it easier for our regression modeling. "
   ]
  },
  {
   "cell_type": "code",
   "execution_count": 29,
   "id": "6a822c29",
   "metadata": {},
   "outputs": [
    {
     "data": {
      "image/png": "[encoded data removed]",
      "text/plain": [
       "<Figure size 360x360 with 1 Axes>"
      ]
     },
     "metadata": {},
     "output_type": "display_data"
    }
   ],
   "source": [
    "def standard_units(any_numbers):\n",
    "    \"Convert any array of numbers to standard units.\"\n",
    "    return (any_numbers - np.mean(any_numbers))/np.std(any_numbers)  \n",
    "\n",
    "casualty_shootings_index = casualty_shootings.with_column(\"Index\", standard_units([i for i in range(1, 1986)]))\n",
    "casualty_shootings_index.scatter(\"Index\", \"Casualties\", fit_line = True)"
   ]
  },
  {
   "cell_type": "markdown",
   "id": "ea8fbe59",
   "metadata": {},
   "source": [
    "#### After inspecting the scatter plot, it is difficult to see if there is an association of any kind so now we must identify correlation the traditional way through calculations which first starts with determining the correlation coefficient."
   ]
  },
  {
   "cell_type": "code",
   "execution_count": 30,
   "id": "85578673",
   "metadata": {},
   "outputs": [
    {
     "data": {
      "text/plain": [
       "0.013057510752210797"
      ]
     },
     "execution_count": 30,
     "metadata": {},
     "output_type": "execute_result"
    }
   ],
   "source": [
    "index = casualty_shootings_index.column(\"Index\")\n",
    "casualty = casualty_shootings_index.column(\"Casualties\")\n",
    "\n",
    "index_su = standard_units(index)\n",
    "casualty_su = standard_units(casualty)\n",
    "\n",
    "casualty_r = np.mean(index_su * casualty_su)\n",
    "casualty_r"
   ]
  },
  {
   "cell_type": "markdown",
   "id": "3ba518a1",
   "metadata": {},
   "source": [
    "#### In order to prevent an issue with the high year values in the 2000s I have scaled down the x-axis values to standard units and determined the correlation coefficient as such which is 0.0130575... Although this is not an accurate correlation coefficient value since it is not scaled back up, it does indicate that as time has progressed there has been a slight increase in the casualties(injuries and deaths) of mass shootings. "
   ]
  },
  {
   "cell_type": "markdown",
   "id": "a3c90b9a",
   "metadata": {},
   "source": [
    "## Performance Analysis (linear regression)"
   ]
  },
  {
   "cell_type": "code",
   "execution_count": 31,
   "id": "32036211",
   "metadata": {},
   "outputs": [],
   "source": [
    "expected = casualty_r * standard_units([i for i in range(1, 1986)])\n",
    "casualty_shootings_expected = casualty_shootings.with_column(\"Expected\", expected)"
   ]
  },
  {
   "cell_type": "code",
   "execution_count": 32,
   "id": "408e7350",
   "metadata": {},
   "outputs": [
    {
     "data": {
      "text/plain": [
       "5.2532424168298064"
      ]
     },
     "execution_count": 32,
     "metadata": {},
     "output_type": "execute_result"
    }
   ],
   "source": [
    "expected = casualty_shootings_expected.column(\"Expected\")\n",
    "observed = casualty_shootings_expected.column(\"Casualties\")\n",
    "RMSE = np.sqrt(np.mean((expected - observed) ** 2))\n",
    "RMSE"
   ]
  },
  {
   "cell_type": "markdown",
   "id": "b7977757",
   "metadata": {},
   "source": [
    "#### Although the RMSE value is quite a high value at 5.2532, it is safe to say that there is a positive correlation over time in the number of casualties, injuries and deaths, in mass shootings as the scaled value of the index(x-axis) is the main error point. The positive correlation value would not be shifted negatively but rather by a positive magnitude and since the x-axis values have not been properly accounted for as is there no basic way to properly quantify it, we can confidently claim that:"
   ]
  },
  {
   "cell_type": "markdown",
   "id": "51e43681",
   "metadata": {},
   "source": [
    "### As time has progressed from 2016 to 2021, the number of casualties(dead and injured) in each individual mass shooting have increased "
   ]
  },
  {
   "cell_type": "markdown",
   "id": "c9d116bd",
   "metadata": {},
   "source": [
    "## Modeling (K-Nearest Neighbors)"
   ]
  },
  {
   "cell_type": "markdown",
   "id": "99026744",
   "metadata": {},
   "source": [
    "### K-Nearest Neighbors"
   ]
  },
  {
   "cell_type": "markdown",
   "id": "d9e5e985",
   "metadata": {},
   "source": [
    "#### First we will split the dataset into a training and testing dataset. We will use the training dataset(85%) to train the model and the testing dataset(15%) to test the performance and also ensure all features are in standard units"
   ]
  },
  {
   "cell_type": "code",
   "execution_count": 33,
   "id": "0479607b",
   "metadata": {},
   "outputs": [
    {
     "name": "stdout",
     "output_type": "stream",
     "text": [
      "Training:  1687 ; Test:  298\n"
     ]
    },
    {
     "data": {
      "image/png": "[encoded data removed]",
      "text/plain": [
       "<Figure size 360x360 with 1 Axes>"
      ]
     },
     "metadata": {},
     "output_type": "display_data"
    }
   ],
   "source": [
    "permuted_shootings = filtered_shootings.sample()\n",
    "# converting the location and casualties into standard units\n",
    "permuted_shootings = permuted_shootings.with_column(\"su_Injured\", standard_units(filtered_shootings.column(\"# Injured\"))).with_column(\"su_Killed\", standard_units(filtered_shootings.column(\"# Killed\")))\n",
    "training_proportion = 17/20\n",
    "\n",
    "num_shootings = permuted_shootings.num_rows\n",
    "num_train = int(num_shootings * training_proportion)\n",
    "num_test = num_shootings - num_train\n",
    "\n",
    "train_shootings = permuted_shootings.take(np.arange(num_train))\n",
    "test_shootings = permuted_shootings.take(np.arange(num_train, num_shootings))\n",
    "\n",
    "print(\"Training: \",   train_shootings.num_rows, \";\",\n",
    "      \"Test: \",       test_shootings.num_rows)\n",
    "train_shootings.scatter(\"su_Injured\", \"su_Killed\")"
   ]
  },
  {
   "cell_type": "markdown",
   "id": "e49e8a3c",
   "metadata": {},
   "source": [
    "#### We first permuted the dataset and then split the dataset into two proportions of 17/20 for training set and 3/20 for the testing set. We will now be classifying the mass shootings by the number of injuries and deaths. In order to measure the distance between two shootings, we will be using the Euclidean distance and before classifying we need to set constraints on injuries and deaths in order to determine the severity of a mass shooting. \n",
    "* A low-casualty mass shooting will be defined as a max of 2 injuries and a max of 2 deaths\n",
    "* A moderate-casualty mass shooting will be defined as a max of 5 injuries and a max of 3 deaths\n",
    "* A high-casualty mass shooting will be defined as everything else"
   ]
  },
  {
   "cell_type": "code",
   "execution_count": 34,
   "id": "d8a6cfc7",
   "metadata": {},
   "outputs": [
    {
     "data": {
      "text/html": [
       "<table border=\"1\" class=\"dataframe\">\n",
       "    <thead>\n",
       "        <tr>\n",
       "            <th>Incident ID</th> <th>Incident Date</th> <th>State</th> <th>City Or County</th> <th>Address</th> <th># Killed</th> <th># Injured</th> <th>Operations</th> <th>su_Injured</th> <th>su_Killed</th> <th>Severity</th>\n",
       "        </tr>\n",
       "    </thead>\n",
       "    <tbody>\n",
       "        <tr>\n",
       "            <td>1773194    </td> <td>August 24, 2020   </td> <td>California    </td> <td>Sacramento        </td> <td>1200 block of Helena Ave           </td> <td>1       </td> <td>3        </td> <td>nan       </td> <td>-0.00869136</td> <td>-0.741164</td> <td>Moderate</td>\n",
       "        </tr>\n",
       "        <tr>\n",
       "            <td>1622340    </td> <td>February 15, 2020 </td> <td>Louisiana     </td> <td>New Orleans       </td> <td>Dryades St and 2nd St              </td> <td>0       </td> <td>4        </td> <td>nan       </td> <td>-0.00869136</td> <td>-0.741164</td> <td>Moderate</td>\n",
       "        </tr>\n",
       "        <tr>\n",
       "            <td>1776905    </td> <td>August 26, 2020   </td> <td>South Carolina</td> <td>Hilton Head Island</td> <td>Muddy Creek Rd and Spanish Wells Rd</td> <td>0       </td> <td>4        </td> <td>nan       </td> <td>1.00615    </td> <td>-0.741164</td> <td>Moderate</td>\n",
       "        </tr>\n",
       "        <tr>\n",
       "            <td>1153531    </td> <td>June 30, 2018     </td> <td>Maryland      </td> <td>Baltimore         </td> <td>4000 block of Penhurst Ave         </td> <td>0       </td> <td>6        </td> <td>nan       </td> <td>-0.00869136</td> <td>-0.741164</td> <td>High    </td>\n",
       "        </tr>\n",
       "        <tr>\n",
       "            <td>1354049    </td> <td>March 24, 2019    </td> <td>Arizona       </td> <td>Phoenix           </td> <td>2202 W McDowell Rd                 </td> <td>0       </td> <td>7        </td> <td>nan       </td> <td>-0.516114  </td> <td>0.046422 </td> <td>High    </td>\n",
       "        </tr>\n",
       "        <tr>\n",
       "            <td>803460     </td> <td>March 25, 2017    </td> <td>Michigan      </td> <td>Detroit           </td> <td>8443 Grand River Ave               </td> <td>1       </td> <td>3        </td> <td>nan       </td> <td>-0.516114  </td> <td>0.046422 </td> <td>Moderate</td>\n",
       "        </tr>\n",
       "        <tr>\n",
       "            <td>1434931    </td> <td>June 29, 2019     </td> <td>Illinois      </td> <td>Chicago           </td> <td>2400 block of W Jackson Blvd       </td> <td>0       </td> <td>5        </td> <td>nan       </td> <td>-0.00869136</td> <td>-0.741164</td> <td>Moderate</td>\n",
       "        </tr>\n",
       "        <tr>\n",
       "            <td>1970378    </td> <td>April 5, 2021     </td> <td>Illinois      </td> <td>Chicago           </td> <td>6800 block of S Justine Ave        </td> <td>0       </td> <td>7        </td> <td>nan       </td> <td>-0.516114  </td> <td>0.046422 </td> <td>High    </td>\n",
       "        </tr>\n",
       "        <tr>\n",
       "            <td>654087     </td> <td>September 13, 2016</td> <td>Indiana       </td> <td>Fort Wayne        </td> <td>1723 E Wayne St                    </td> <td>3       </td> <td>2        </td> <td>nan       </td> <td>-0.516114  </td> <td>0.046422 </td> <td>Moderate</td>\n",
       "        </tr>\n",
       "        <tr>\n",
       "            <td>881921     </td> <td>July 3, 2017      </td> <td>Michigan      </td> <td>Pontiac           </td> <td>50 block of Thorpe St              </td> <td>1       </td> <td>3        </td> <td>nan       </td> <td>-0.00869136</td> <td>-0.741164</td> <td>Moderate</td>\n",
       "        </tr>\n",
       "    </tbody>\n",
       "</table>\n",
       "<p>... (1677 rows omitted)</p>"
      ],
      "text/plain": [
       "Incident ID | Incident Date      | State          | City Or County     | Address                             | # Killed | # Injured | Operations | su_Injured  | su_Killed | Severity\n",
       "1773194     | August 24, 2020    | California     | Sacramento         | 1200 block of Helena Ave            | 1        | 3         | nan        | -0.00869136 | -0.741164 | Moderate\n",
       "1622340     | February 15, 2020  | Louisiana      | New Orleans        | Dryades St and 2nd St               | 0        | 4         | nan        | -0.00869136 | -0.741164 | Moderate\n",
       "1776905     | August 26, 2020    | South Carolina | Hilton Head Island | Muddy Creek Rd and Spanish Wells Rd | 0        | 4         | nan        | 1.00615     | -0.741164 | Moderate\n",
       "1153531     | June 30, 2018      | Maryland       | Baltimore          | 4000 block of Penhurst Ave          | 0        | 6         | nan        | -0.00869136 | -0.741164 | High\n",
       "1354049     | March 24, 2019     | Arizona        | Phoenix            | 2202 W McDowell Rd                  | 0        | 7         | nan        | -0.516114   | 0.046422  | High\n",
       "803460      | March 25, 2017     | Michigan       | Detroit            | 8443 Grand River Ave                | 1        | 3         | nan        | -0.516114   | 0.046422  | Moderate\n",
       "1434931     | June 29, 2019      | Illinois       | Chicago            | 2400 block of W Jackson Blvd        | 0        | 5         | nan        | -0.00869136 | -0.741164 | Moderate\n",
       "1970378     | April 5, 2021      | Illinois       | Chicago            | 6800 block of S Justine Ave         | 0        | 7         | nan        | -0.516114   | 0.046422  | High\n",
       "654087      | September 13, 2016 | Indiana        | Fort Wayne         | 1723 E Wayne St                     | 3        | 2         | nan        | -0.516114   | 0.046422  | Moderate\n",
       "881921      | July 3, 2017       | Michigan       | Pontiac            | 50 block of Thorpe St               | 1        | 3         | nan        | -0.00869136 | -0.741164 | Moderate\n",
       "... (1677 rows omitted)"
      ]
     },
     "execution_count": 34,
     "metadata": {},
     "output_type": "execute_result"
    }
   ],
   "source": [
    "def determineSeverity(tbl):\n",
    "    res = make_array()\n",
    "    for i in range(tbl.num_rows):\n",
    "        if tbl.column(\"# Injured\")[i].item(0) <= 2 and tbl.column(\"# Killed\")[i].item(0) <= 2:\n",
    "            res = np.append(res, \"Low\")\n",
    "        elif tbl.column(\"# Injured\")[i].item(0) <= 5 and tbl.column(\"# Killed\")[i].item(0) <= 3:\n",
    "            res = np.append(res, \"Moderate\")\n",
    "        else:\n",
    "            res = np.append(res, \"High\")\n",
    "    return res\n",
    "train_shootings = train_shootings.with_column(\"Severity\", determineSeverity(train_shootings))\n",
    "train_shootings"
   ]
  },
  {
   "cell_type": "markdown",
   "id": "8d64228d",
   "metadata": {},
   "source": [
    "#### For reference reasons, let's try executing an example of determining the euclidean distance between two mass shootings. We can take the top two rows of the training set as examples."
   ]
  },
  {
   "cell_type": "code",
   "execution_count": 35,
   "id": "1e4f5931",
   "metadata": {},
   "outputs": [
    {
     "name": "stdout",
     "output_type": "stream",
     "text": [
      "The euclidean distance between the first two mass shootings is: 1.0\n"
     ]
    }
   ],
   "source": [
    "firstInjured = train_shootings.row(0).item(\"# Injured\")\n",
    "secondInjured = train_shootings.row(1).item(\"# Injured\")\n",
    "firstKilled = train_shootings.row(0).item(\"# Killed\")\n",
    "secondKilled = train_shootings.row(0).item(\"# Killed\")\n",
    "print(\"The euclidean distance between the first two mass shootings is:\", ((firstInjured - secondInjured) ** 2 + (firstKilled - secondKilled) ** 2) ** .5)"
   ]
  },
  {
   "cell_type": "markdown",
   "id": "59c9636d",
   "metadata": {},
   "source": [
    "#### As we can see from the above calculation, the euclidean distance between the two mass shootings is 1.0 but let's make a more general function."
   ]
  },
  {
   "cell_type": "code",
   "execution_count": 36,
   "id": "f370d260",
   "metadata": {},
   "outputs": [],
   "source": [
    "def distance_two_shootings(one_tbl, shootingTest, shooting1, x_feature, y_feature):\n",
    "    \"\"\"Compute the distance between two movies with titles title0 and title1.\n",
    "    \n",
    "    Only the features named x_feature and y_feature are used when computing the distance.\n",
    "    \"\"\"\n",
    "    row0 = shootingTest\n",
    "    row1 = one_tbl.row(shooting1)\n",
    "\n",
    "    return ((row0.item(x_feature) - row1.item(x_feature)) ** 2 + (row0.item(y_feature) - row1.item(y_feature)) ** 2) ** .5"
   ]
  },
  {
   "cell_type": "code",
   "execution_count": 37,
   "id": "e3854ef4",
   "metadata": {},
   "outputs": [
    {
     "name": "stdout",
     "output_type": "stream",
     "text": [
      "The first test value can be classified as a Low level shooting\n"
     ]
    }
   ],
   "source": [
    "training_example = train_shootings.select(\"Incident ID\", \"# Killed\", \"# Injured\", \"Severity\")\n",
    "firstTest = test_shootings.row(0)\n",
    "distancesFromFirstTest = make_array()\n",
    "for i in range(train_shootings.num_rows):\n",
    "    distancesFromFirstTest = np.append(distancesFromFirstTest, distance_two_shootings(train_shootings, firstTest, i, \"# Injured\", \"# Killed\"))\n",
    "# Getting 10 closest shootings\n",
    "close_shootings = training_example.with_column(\"Distance from first test shooting\", distancesFromFirstTest).sort(\"Distance from first test shooting\").take(np.arange(0, 10))\n",
    "def most_common(label, table):\n",
    "    return table.group(label).sort('count', True).column(label).item(0)\n",
    "print(\"The first test value can be classified as a\", most_common(\"Severity\", close_shootings), \"level shooting\")\n"
   ]
  },
  {
   "cell_type": "markdown",
   "id": "74f261ab",
   "metadata": {},
   "source": [
    "#### We have successfully classified the first value in the testing dataset and can now do the same for the rest of the testing dataset but before doing that let's make a general function to make it easier to do so"
   ]
  },
  {
   "cell_type": "code",
   "execution_count": 38,
   "id": "62c0ea04",
   "metadata": {},
   "outputs": [
    {
     "data": {
      "text/html": [
       "<table border=\"1\" class=\"dataframe\">\n",
       "    <thead>\n",
       "        <tr>\n",
       "            <th>Incident ID</th> <th>Incident Date</th> <th>State</th> <th>City Or County</th> <th>Address</th> <th># Killed</th> <th># Injured</th> <th>Operations</th> <th>su_Injured</th> <th>su_Killed</th> <th>Generated Severity</th>\n",
       "        </tr>\n",
       "    </thead>\n",
       "    <tbody>\n",
       "        <tr>\n",
       "            <td>1398584    </td> <td>May 18, 2019     </td> <td>Iowa    </td> <td>Cedar Rapids  </td> <td>70 Kirkwood Ct SW             </td> <td>2       </td> <td>2        </td> <td>nan       </td> <td>-1.02354   </td> <td>0.834008 </td> <td>Low               </td>\n",
       "        </tr>\n",
       "        <tr>\n",
       "            <td>945990     </td> <td>October 1, 2017  </td> <td>Kansas  </td> <td>Lawrence      </td> <td>1000 block of Massachusetts St</td> <td>3       </td> <td>2        </td> <td>nan       </td> <td>-0.00869136</td> <td>-0.741164</td> <td>Moderate          </td>\n",
       "        </tr>\n",
       "        <tr>\n",
       "            <td>975600     </td> <td>October 29, 2017 </td> <td>Texas   </td> <td>Austin        </td> <td>5500 block of Ave F           </td> <td>1       </td> <td>3        </td> <td>nan       </td> <td>2.52842    </td> <td>-0.741164</td> <td>Moderate          </td>\n",
       "        </tr>\n",
       "        <tr>\n",
       "            <td>1179810    </td> <td>August 4, 2018   </td> <td>Nevada  </td> <td>Las Vegas     </td> <td>3400 block of Coran Ln        </td> <td>0       </td> <td>6        </td> <td>nan       </td> <td>-0.00869136</td> <td>-0.741164</td> <td>High              </td>\n",
       "        </tr>\n",
       "        <tr>\n",
       "            <td>1179805    </td> <td>August 4, 2018   </td> <td>Illinois</td> <td>Chicago       </td> <td>1600 block of N Leclaire Ave  </td> <td>1       </td> <td>3        </td> <td>nan       </td> <td>-0.00869136</td> <td>-0.741164</td> <td>Moderate          </td>\n",
       "        </tr>\n",
       "        <tr>\n",
       "            <td>1582816    </td> <td>December 29, 2019</td> <td>Illinois</td> <td>Danville      </td> <td>1803 block of Westview Ave    </td> <td>0       </td> <td>5        </td> <td>nan       </td> <td>-0.00869136</td> <td>-0.741164</td> <td>Moderate          </td>\n",
       "        </tr>\n",
       "        <tr>\n",
       "            <td>1753235    </td> <td>August 1, 2020   </td> <td>Texas   </td> <td>Pointblank    </td> <td>4411 Counts Rd                </td> <td>2       </td> <td>3        </td> <td>nan       </td> <td>0.498731   </td> <td>0.834008 </td> <td>Moderate          </td>\n",
       "        </tr>\n",
       "        <tr>\n",
       "            <td>1968887    </td> <td>April 4, 2021    </td> <td>Alabama </td> <td>Birmingham    </td> <td>3969 14th Ave N               </td> <td>1       </td> <td>5        </td> <td>nan       </td> <td>1.00615    </td> <td>-0.741164</td> <td>Moderate          </td>\n",
       "        </tr>\n",
       "        <tr>\n",
       "            <td>1724273    </td> <td>July 3, 2020     </td> <td>Maryland</td> <td>Baltimore     </td> <td>700 block of S Woodington Rd  </td> <td>0       </td> <td>4        </td> <td>nan       </td> <td>-1.02354   </td> <td>1.62159  </td> <td>Moderate          </td>\n",
       "        </tr>\n",
       "        <tr>\n",
       "            <td>1429480    </td> <td>June 23, 2019    </td> <td>Ohio    </td> <td>Columbus      </td> <td>1767 Genessee Ave             </td> <td>0       </td> <td>5        </td> <td>nan       </td> <td>-2.03838   </td> <td>3.98435  </td> <td>Moderate          </td>\n",
       "        </tr>\n",
       "    </tbody>\n",
       "</table>\n",
       "<p>... (288 rows omitted)</p>"
      ],
      "text/plain": [
       "Incident ID | Incident Date     | State    | City Or County | Address                        | # Killed | # Injured | Operations | su_Injured  | su_Killed | Generated Severity\n",
       "1398584     | May 18, 2019      | Iowa     | Cedar Rapids   | 70 Kirkwood Ct SW              | 2        | 2         | nan        | -1.02354    | 0.834008  | Low\n",
       "945990      | October 1, 2017   | Kansas   | Lawrence       | 1000 block of Massachusetts St | 3        | 2         | nan        | -0.00869136 | -0.741164 | Moderate\n",
       "975600      | October 29, 2017  | Texas    | Austin         | 5500 block of Ave F            | 1        | 3         | nan        | 2.52842     | -0.741164 | Moderate\n",
       "1179810     | August 4, 2018    | Nevada   | Las Vegas      | 3400 block of Coran Ln         | 0        | 6         | nan        | -0.00869136 | -0.741164 | High\n",
       "1179805     | August 4, 2018    | Illinois | Chicago        | 1600 block of N Leclaire Ave   | 1        | 3         | nan        | -0.00869136 | -0.741164 | Moderate\n",
       "1582816     | December 29, 2019 | Illinois | Danville       | 1803 block of Westview Ave     | 0        | 5         | nan        | -0.00869136 | -0.741164 | Moderate\n",
       "1753235     | August 1, 2020    | Texas    | Pointblank     | 4411 Counts Rd                 | 2        | 3         | nan        | 0.498731    | 0.834008  | Moderate\n",
       "1968887     | April 4, 2021     | Alabama  | Birmingham     | 3969 14th Ave N                | 1        | 5         | nan        | 1.00615     | -0.741164 | Moderate\n",
       "1724273     | July 3, 2020      | Maryland | Baltimore      | 700 block of S Woodington Rd   | 0        | 4         | nan        | -1.02354    | 1.62159   | Moderate\n",
       "1429480     | June 23, 2019     | Ohio     | Columbus       | 1767 Genessee Ave              | 0        | 5         | nan        | -2.03838    | 3.98435   | Moderate\n",
       "... (288 rows omitted)"
      ]
     },
     "execution_count": 38,
     "metadata": {},
     "output_type": "execute_result"
    }
   ],
   "source": [
    "def determine_severity_test(i):\n",
    "    test_row = test_shootings.row(i)\n",
    "    distancesFromFirstTest = make_array()\n",
    "    for i in range(train_shootings.num_rows):\n",
    "        distancesFromFirstTest = np.append(distancesFromFirstTest, distance_two_shootings(train_shootings, test_row, i, \"# Injured\", \"# Killed\"))\n",
    "    # Getting 10 closest shootings\n",
    "    close_shootings = training_example.with_column(\"Distance from first test shooting\", distancesFromFirstTest).sort(\"Distance from first test shooting\").take(np.arange(0, 10))\n",
    "    return most_common(\"Severity\", close_shootings)\n",
    "\n",
    "test_shooting_severity_array = make_array()\n",
    "for i in range(test_shootings.num_rows):\n",
    "    test_shooting_severity_array = np.append(test_shooting_severity_array, determine_severity_test(i))\n",
    "test_shootings = test_shootings.with_column(\"Generated Severity\", test_shooting_severity_array)    \n",
    "test_shootings\n"
   ]
  },
  {
   "cell_type": "markdown",
   "id": "d651b510",
   "metadata": {},
   "source": [
    "#### Yayyy! We have now run a K-Nearest Neighbors algorithmic determination of the severity of mass shootings but... we are not quite done yet. Now comes the step of analyzing our performance"
   ]
  },
  {
   "cell_type": "markdown",
   "id": "32c10052",
   "metadata": {},
   "source": [
    "## Performance Analysis (K-Nearest Neighbors)"
   ]
  },
  {
   "cell_type": "markdown",
   "id": "3a635ba4",
   "metadata": {},
   "source": [
    "#### In order to determine how accurate our classifier is we will compare the expected Severity values with our generated Severity values and calculate the proportion that are the same."
   ]
  },
  {
   "cell_type": "code",
   "execution_count": 39,
   "id": "c6d63f75",
   "metadata": {},
   "outputs": [
    {
     "data": {
      "text/html": [
       "<table border=\"1\" class=\"dataframe\">\n",
       "    <thead>\n",
       "        <tr>\n",
       "            <th>Incident ID</th> <th>Incident Date</th> <th>State</th> <th>City Or County</th> <th>Address</th> <th># Killed</th> <th># Injured</th> <th>Operations</th> <th>su_Injured</th> <th>su_Killed</th> <th>Generated Severity</th> <th>Expected Severity</th>\n",
       "        </tr>\n",
       "    </thead>\n",
       "    <tbody>\n",
       "        <tr>\n",
       "            <td>1398584    </td> <td>May 18, 2019     </td> <td>Iowa    </td> <td>Cedar Rapids  </td> <td>70 Kirkwood Ct SW             </td> <td>2       </td> <td>2        </td> <td>nan       </td> <td>-1.02354   </td> <td>0.834008 </td> <td>Low               </td> <td>Low              </td>\n",
       "        </tr>\n",
       "        <tr>\n",
       "            <td>945990     </td> <td>October 1, 2017  </td> <td>Kansas  </td> <td>Lawrence      </td> <td>1000 block of Massachusetts St</td> <td>3       </td> <td>2        </td> <td>nan       </td> <td>-0.00869136</td> <td>-0.741164</td> <td>Moderate          </td> <td>Moderate         </td>\n",
       "        </tr>\n",
       "        <tr>\n",
       "            <td>975600     </td> <td>October 29, 2017 </td> <td>Texas   </td> <td>Austin        </td> <td>5500 block of Ave F           </td> <td>1       </td> <td>3        </td> <td>nan       </td> <td>2.52842    </td> <td>-0.741164</td> <td>Moderate          </td> <td>Moderate         </td>\n",
       "        </tr>\n",
       "        <tr>\n",
       "            <td>1179810    </td> <td>August 4, 2018   </td> <td>Nevada  </td> <td>Las Vegas     </td> <td>3400 block of Coran Ln        </td> <td>0       </td> <td>6        </td> <td>nan       </td> <td>-0.00869136</td> <td>-0.741164</td> <td>High              </td> <td>High             </td>\n",
       "        </tr>\n",
       "        <tr>\n",
       "            <td>1179805    </td> <td>August 4, 2018   </td> <td>Illinois</td> <td>Chicago       </td> <td>1600 block of N Leclaire Ave  </td> <td>1       </td> <td>3        </td> <td>nan       </td> <td>-0.00869136</td> <td>-0.741164</td> <td>Moderate          </td> <td>Moderate         </td>\n",
       "        </tr>\n",
       "        <tr>\n",
       "            <td>1582816    </td> <td>December 29, 2019</td> <td>Illinois</td> <td>Danville      </td> <td>1803 block of Westview Ave    </td> <td>0       </td> <td>5        </td> <td>nan       </td> <td>-0.00869136</td> <td>-0.741164</td> <td>Moderate          </td> <td>Moderate         </td>\n",
       "        </tr>\n",
       "        <tr>\n",
       "            <td>1753235    </td> <td>August 1, 2020   </td> <td>Texas   </td> <td>Pointblank    </td> <td>4411 Counts Rd                </td> <td>2       </td> <td>3        </td> <td>nan       </td> <td>0.498731   </td> <td>0.834008 </td> <td>Moderate          </td> <td>Moderate         </td>\n",
       "        </tr>\n",
       "        <tr>\n",
       "            <td>1968887    </td> <td>April 4, 2021    </td> <td>Alabama </td> <td>Birmingham    </td> <td>3969 14th Ave N               </td> <td>1       </td> <td>5        </td> <td>nan       </td> <td>1.00615    </td> <td>-0.741164</td> <td>Moderate          </td> <td>Moderate         </td>\n",
       "        </tr>\n",
       "        <tr>\n",
       "            <td>1724273    </td> <td>July 3, 2020     </td> <td>Maryland</td> <td>Baltimore     </td> <td>700 block of S Woodington Rd  </td> <td>0       </td> <td>4        </td> <td>nan       </td> <td>-1.02354   </td> <td>1.62159  </td> <td>Moderate          </td> <td>Moderate         </td>\n",
       "        </tr>\n",
       "        <tr>\n",
       "            <td>1429480    </td> <td>June 23, 2019    </td> <td>Ohio    </td> <td>Columbus      </td> <td>1767 Genessee Ave             </td> <td>0       </td> <td>5        </td> <td>nan       </td> <td>-2.03838   </td> <td>3.98435  </td> <td>Moderate          </td> <td>Moderate         </td>\n",
       "        </tr>\n",
       "    </tbody>\n",
       "</table>\n",
       "<p>... (288 rows omitted)</p>"
      ],
      "text/plain": [
       "Incident ID | Incident Date     | State    | City Or County | Address                        | # Killed | # Injured | Operations | su_Injured  | su_Killed | Generated Severity | Expected Severity\n",
       "1398584     | May 18, 2019      | Iowa     | Cedar Rapids   | 70 Kirkwood Ct SW              | 2        | 2         | nan        | -1.02354    | 0.834008  | Low                | Low\n",
       "945990      | October 1, 2017   | Kansas   | Lawrence       | 1000 block of Massachusetts St | 3        | 2         | nan        | -0.00869136 | -0.741164 | Moderate           | Moderate\n",
       "975600      | October 29, 2017  | Texas    | Austin         | 5500 block of Ave F            | 1        | 3         | nan        | 2.52842     | -0.741164 | Moderate           | Moderate\n",
       "1179810     | August 4, 2018    | Nevada   | Las Vegas      | 3400 block of Coran Ln         | 0        | 6         | nan        | -0.00869136 | -0.741164 | High               | High\n",
       "1179805     | August 4, 2018    | Illinois | Chicago        | 1600 block of N Leclaire Ave   | 1        | 3         | nan        | -0.00869136 | -0.741164 | Moderate           | Moderate\n",
       "1582816     | December 29, 2019 | Illinois | Danville       | 1803 block of Westview Ave     | 0        | 5         | nan        | -0.00869136 | -0.741164 | Moderate           | Moderate\n",
       "1753235     | August 1, 2020    | Texas    | Pointblank     | 4411 Counts Rd                 | 2        | 3         | nan        | 0.498731    | 0.834008  | Moderate           | Moderate\n",
       "1968887     | April 4, 2021     | Alabama  | Birmingham     | 3969 14th Ave N                | 1        | 5         | nan        | 1.00615     | -0.741164 | Moderate           | Moderate\n",
       "1724273     | July 3, 2020      | Maryland | Baltimore      | 700 block of S Woodington Rd   | 0        | 4         | nan        | -1.02354    | 1.62159   | Moderate           | Moderate\n",
       "1429480     | June 23, 2019     | Ohio     | Columbus       | 1767 Genessee Ave              | 0        | 5         | nan        | -2.03838    | 3.98435   | Moderate           | Moderate\n",
       "... (288 rows omitted)"
      ]
     },
     "execution_count": 39,
     "metadata": {},
     "output_type": "execute_result"
    }
   ],
   "source": [
    "test_shootings_all = test_shootings.with_column(\"Expected Severity\", determineSeverity(test_shootings))\n",
    "test_shootings_all"
   ]
  },
  {
   "cell_type": "code",
   "execution_count": 40,
   "id": "f8f85993",
   "metadata": {},
   "outputs": [
    {
     "name": "stdout",
     "output_type": "stream",
     "text": [
      "The accuracy of the classifier is: 100.0%\n"
     ]
    }
   ],
   "source": [
    "def determine_accuracy(generated, expected):\n",
    "    total = test_shootings_all.num_rows\n",
    "    equal_count = 0\n",
    "    for i in range(total):\n",
    "        if generated.item(i) == expected.item(i):\n",
    "            equal_count += 1\n",
    "    return equal_count / total\n",
    "print(\"The accuracy of the classifier is: \" + str(determine_accuracy(test_shootings_all.column(\"Generated Severity\"), test_shootings_all.column(\"Expected Severity\")) * 100) + \"%\")"
   ]
  },
  {
   "cell_type": "markdown",
   "id": "e127814e",
   "metadata": {},
   "source": [
    "### We have finally determined that our classifier is 98.99% or more accurate which is quite accurate. Now, we have a way of classifying shootings into three different levels:\n",
    "* Low\n",
    "* Moderate\n",
    "* High"
   ]
  },
  {
   "cell_type": "markdown",
   "id": "52fa0ab4",
   "metadata": {},
   "source": [
    "# Conclusion "
   ]
  },
  {
   "cell_type": "markdown",
   "id": "d95c0fdc",
   "metadata": {},
   "source": [
    "### As a student in the United States of America who has witnessed the terrors and impacts that mass shootings can have on my fellow peers, I personally feel very strongly about this project. I decided to pursue this project in the hopes of finding more direction and evidence from a source that I knew I could trust: statistical modeling. Although I do recognize that people manipulate statistical models in order to suit their political stance, I am grateful that I can trust this research as I do not have a strong bias which would affect the methods of this study.\n",
    "## Thank you so much for taking the time to read through this study\n",
    "# &copy;Srinidhi Raghavendran 2022"
   ]
  }
 ],
 "metadata": {
  "interpreter": {
   "hash": "aee8b7b246df8f9039afb4144a1f6fd8d2ca17a180786b69acc140d282b71a49"
  },
  "kernelspec": {
   "display_name": "Python 3 (ipykernel)",
   "language": "python",
   "name": "python3"
  },
  "language_info": {
   "codemirror_mode": {
    "name": "ipython",
    "version": 3
   },
   "file_extension": ".py",
   "mimetype": "text/x-python",
   "name": "python",
   "nbconvert_exporter": "python",
   "pygments_lexer": "ipython3",
   "version": "3.9.4"
  }
 },
 "nbformat": 4,
 "nbformat_minor": 5
}
